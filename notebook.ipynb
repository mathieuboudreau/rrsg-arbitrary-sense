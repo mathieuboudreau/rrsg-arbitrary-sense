{
 "cells": [
  {
   "cell_type": "code",
   "execution_count": null,
   "metadata": {
    "kernel": "Octave"
   },
   "outputs": [],
   "source": [
    "startup"
   ]
  },
  {
   "cell_type": "code",
   "execution_count": null,
   "metadata": {
    "kernel": "Octave"
   },
   "outputs": [],
   "source": [
    "% main.m\n",
    "\n",
    "% This script loads the provided data, loads (or creates SENSE maps) and\n",
    "% reconstructs the data for different undersampling factors (R values).\n",
    "% Reconstructions are done in the CreateFigure functions which are meant to\n",
    "% replicate the Figures of the original paper.\n",
    "\n",
    "clear;\n",
    "paths = setupPaths();\n",
    "doLoadSenseMap = 1;\n",
    "\n",
    "%% Load Data\n",
    "% Possible Datasets are: 'brain', 'heart'\n",
    "properties.dataset = 'brain';\n",
    "data = loadData(paths.root, properties.dataset);\n",
    "\n",
    "%% Set up properties\n",
    "properties.Nimg = data.Nimg;        % Number of voxels N\n",
    "properties.doSense = 1;             % Do SENSE reconstruction?\n",
    "properties.R = 2;                   % Undersampling factor (positive integer or range)\n",
    "properties.nIterations = 10;        % Number of CG-SENSE iterations\n",
    "properties.gridding.os = 2;         % Gridding oversampling factor\n",
    "properties.gridding.width = 4;      % Gridding kernel width as a multiple of dk without oversampling\n",
    "properties.getSCdata = 0;           % Return single-coil images?\n",
    "properties.doVis = 0;               % Plot current image after each CG iteration?\n",
    "properties.saveIterSteps = 0;       % Store images from all CG iterations?\n",
    "properties.doNoiseCov = 1;          % Use noise covariance matrix?\n",
    "properties.calculateDelta = 0;      % Calculate delta (normed difference of each iteration step to reference)?\n",
    "properties.dokspaceApodization = 0; % Add additional k-space apodization? (used for SENSE map creation)\n",
    "% computation method for kspace filter\n",
    "% 'gridding' - gridding of 1s on trajectory (for arbitrary traj) & mask\n",
    "% 'disk'     - use circular disk (only useful for radials/spirals)\n",
    "properties.kSpaceFilterMethod = 'gridding'; \n",
    "\n",
    "%% Calculate or load SENSE map\n",
    "data.sense = getSenseMap(paths, properties, doLoadSenseMap, data);"
   ]
  },
  {
   "cell_type": "code",
   "execution_count": null,
   "metadata": {
    "kernel": "Octave"
   },
   "outputs": [],
   "source": [
    "%plot gnuplot\n",
    "\n",
    "% createFigure4.m\n",
    "\n",
    "% This function creates Figure 4 of the original paper (log(delta) over\n",
    "% number of iterations). It first sets properties that are held constant for\n",
    "% all of the following reconstructions. They are very similar to the main\n",
    "% script. In the first step a reconstruction using all data (R=1) is made\n",
    "% with 5 iterations. The number of iterations was chosen manually as we\n",
    "% found that the brain dataset showed a good reconstruction after 5 steps.\n",
    "% Then, reconstructions with undersampling factors of R=2,3,4,5 are done. A\n",
    "% porperty called 'calculateDelta' is used and set to 1 to output the delta\n",
    "% for each iteration step.\n",
    "\n",
    "properties.Nimg = data.Nimg;        \n",
    "properties.gridding.os = 2;  \n",
    "properties.gridding.width = 4;   \n",
    "properties.doVis = 0;            \n",
    "properties.saveIterSteps = 0;  \n",
    "properties.doNoiseCov = 1;\n",
    "properties.getSCdata = 0;\n",
    "properties.calculateDelta = 0;\n",
    "properties.dokspaceApodization = 0;\n",
    "\n",
    "% R=1 image\n",
    "properties.doSense = 1;\n",
    "properties.R = 1;\n",
    "properties.nIterations = 5;\n",
    "properties.kSpaceFilterMethod = 'gridding'; \n",
    "\n",
    "out = iterativeRecon(data, properties);\n",
    "reference.image = out.imageComb;\n",
    "mask_tmp = zeros(size(reference.image));\n",
    "mask_tmp(abs(reference.image) > mean(mean(abs(reference.image)))) = 1;\n",
    "se = strel('diamond',2);\n",
    "mask_tmp = imopen(mask_tmp, se);\n",
    "reference.mask = mask_tmp;\n",
    "\n",
    "% Range of R\n",
    "R = [1, 2, 3, 4, 5];\n",
    "properties.nIterations = 30;\n",
    "deltas = zeros(properties.nIterations+1, length(R));\n",
    "Deltas = zeros(properties.nIterations+1, length(R));\n",
    "for ic1=1:length(R)\n",
    "    disp(['Reconstruct image with R = ' num2str(R(ic1)) '. (' num2str(ic1) '/' num2str(length(R)) ')']);\n",
    "    properties.R = R(ic1);\n",
    "    properties.saveIterSteps = 0;\n",
    "    properties.doNoiseCov = 1;\n",
    "    properties.getSCdata = 0;\n",
    "    properties.calculateDelta = 1;\n",
    "    \n",
    "    out_tmp = iterativeRecon(data, properties, reference);\n",
    "    deltas(:,ic1) = out_tmp.deltas;\n",
    "    Deltas(:,ic1) = out_tmp.Deltas;\n",
    "end\n",
    "\n",
    "nIterations = size(Deltas,1)-1;\n",
    "\n",
    "% Plot the results and save the figure in results subfolder\n",
    "% We decided to not plot the error for R=1\n",
    "fig4 = figure;\n",
    "subplot(1,2,1);\n",
    "l1 = plot(0:nIterations,log10(Deltas(:,2:5)), 'LineWidth', 2);\n",
    "xlim([0 nIterations])\n",
    "ylabel('$\\log_{10} \\Delta_{approx}$', 'Interpreter', 'latex', 'FontSize', 16)\n",
    "xlabel('Iterations', 'Interpreter', 'latex', 'FontSize', 16)\n",
    "legend({'R=2', 'R=3', 'R=4', 'R=5'})\n",
    "box on\n",
    "\n",
    "subplot(1,2,2);\n",
    "l2 = plot(0:nIterations,log10(deltas(:,1:5)), 'LineWidth', 2);\n",
    "xlim([0 nIterations])\n",
    "ylabel('$\\log_{10} \\delta$', 'Interpreter', 'latex', 'FontSize', 16)\n",
    "xlabel('Iterations', 'Interpreter', 'latex', 'FontSize', 16)\n",
    "legend({'R=1', 'R=2', 'R=3', 'R=4', 'R=5'})\n",
    "box on\n",
    "\n",
    "% Make sure that same R-factors have same line color in both plots\n",
    "colors = get(l2,{'Color'});\n",
    "set(l1,{'Color'},colors(2:5));\n",
    "\n",
    "print(fig4,[paths.results '/Figure4_' data.dataset '_logDeltaOverIterations'],'-dpng')\n"
   ]
  }
 ],
 "metadata": {
  "kernelspec": {
   "display_name": "SoS",
   "language": "sos",
   "name": "sos"
  },
  "language_info": {
   "codemirror_mode": "sos",
   "file_extension": ".sos",
   "mimetype": "text/x-sos",
   "name": "sos",
   "nbconvert_exporter": "sos_notebook.converter.SoS_Exporter",
   "pygments_lexer": "sos"
  },
  "sos": {
   "kernels": [
    [
     "Octave",
     "octave",
     "Octave",
     "#dff8fb"
    ]
   ],
   "panel": {
    "displayed": true,
    "height": 0,
    "style": "side"
   },
   "version": "0.17.2"
  }
 },
 "nbformat": 4,
 "nbformat_minor": 2
}
